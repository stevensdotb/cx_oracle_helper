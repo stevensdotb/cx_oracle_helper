{
 "cells": [
  {
   "cell_type": "code",
   "execution_count": 1,
   "id": "27b7ddb6",
   "metadata": {},
   "outputs": [],
   "source": [
    "# ======================================\n",
    "# Sample to know how to use the package\n",
    "# ======================================\n",
    "from cx_oracle_helper import CxOracleHelper"
   ]
  },
  {
   "cell_type": "code",
   "execution_count": 2,
   "id": "0adc38f8",
   "metadata": {},
   "outputs": [
    {
     "data": {
      "text/plain": [
       "<CxOracleHelper('FIL_REP')>"
      ]
     },
     "execution_count": 2,
     "metadata": {},
     "output_type": "execute_result"
    }
   ],
   "source": [
    "# Connect to a database\n",
    "db_name = \"DBNAME\"\n",
    "db = CxOracleHelper(db_name)\n",
    "db"
   ]
  },
  {
   "cell_type": "code",
   "execution_count": null,
   "id": "04a5499b",
   "metadata": {},
   "outputs": [],
   "source": [
    "# Execute a query\n",
    "sql = \"SELECT * FROM MY_TABLE WHERE MY_FIELD LIKE 'VAL%'\"\n",
    "# CxohResultSet object, commited flag (for commit dml operations) and error are recived in a tuple when execute\n",
    "data, commited, error = db.execute(sql, fetch=5)\n",
    "print(data)\n",
    "print(commited)\n",
    "print(error)"
   ]
  },
  {
   "cell_type": "code",
   "execution_count": 7,
   "id": "fbb7b125",
   "metadata": {},
   "outputs": [],
   "source": [
    "# Checking if an error ocurred\n",
    "if error is not None:\n",
    "    print(error)"
   ]
  },
  {
   "cell_type": "code",
   "execution_count": 9,
   "id": "1af17d6d",
   "metadata": {},
   "outputs": [],
   "source": [
    "# When a create, insert or update is applied <commited> can be used to check if changes were commited:\n",
    "# e.g:\n",
    "#\n",
    "# if commited:\n",
    "#     print(\"Changes ere applied.\")"
   ]
  },
  {
   "cell_type": "code",
   "execution_count": null,
   "id": "2d630b44",
   "metadata": {},
   "outputs": [],
   "source": [
    "# There is two ways of accessing to the data depending of the needs\n",
    "\n",
    "# 1. rows and columns attributes\n",
    "data.columns"
   ]
  },
  {
   "cell_type": "code",
   "execution_count": null,
   "id": "5d161a6b",
   "metadata": {},
   "outputs": [],
   "source": [
    "data.rows"
   ]
  },
  {
   "cell_type": "code",
   "execution_count": null,
   "id": "b46861de",
   "metadata": {},
   "outputs": [],
   "source": [
    "# 2. as_namedTuple property. It will return a list of ResultSet objects\n",
    "data_named = data.as_namedtuple\n",
    "data_named[0]"
   ]
  },
  {
   "cell_type": "code",
   "execution_count": 13,
   "id": "c37163ab",
   "metadata": {},
   "outputs": [
    {
     "name": "stdout",
     "output_type": "stream",
     "text": [
      "INAL046\n"
     ]
    }
   ],
   "source": [
    "# as_namedtuple will allow you to access by columns name: row.COLUMN_NAME\n",
    "first = data_named[0]\n",
    "print(first.MY_FIELD)"
   ]
  },
  {
   "cell_type": "code",
   "execution_count": null,
   "id": "b4fd25e9",
   "metadata": {},
   "outputs": [],
   "source": [
    "# Looping using getattr to get a column value\n",
    "for row in data_named:\n",
    "    print(\"\\n\".join([\n",
    "        f\"{column}: {getattr(row, column)}\" for column in row._fields\n",
    "    ]), end=\"\\n-----------------------\\n\")"
   ]
  },
  {
   "cell_type": "code",
   "execution_count": null,
   "id": "1e454ad3",
   "metadata": {},
   "outputs": [],
   "source": []
  }
 ],
 "metadata": {
  "kernelspec": {
   "display_name": "Python 3 (ipykernel)",
   "language": "python",
   "name": "python3"
  },
  "language_info": {
   "codemirror_mode": {
    "name": "ipython",
    "version": 3
   },
   "file_extension": ".py",
   "mimetype": "text/x-python",
   "name": "python",
   "nbconvert_exporter": "python",
   "pygments_lexer": "ipython3",
   "version": "3.11.0"
  },
  "vscode": {
   "interpreter": {
    "hash": "5238573367df39f7286bb46f9ff5f08f63a01a80960060ce41e3c79b190280fa"
   }
  }
 },
 "nbformat": 4,
 "nbformat_minor": 5
}
